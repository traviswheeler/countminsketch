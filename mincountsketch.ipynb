{
  "cells": [
    {
      "cell_type": "markdown",
      "source": [
        "# Count-Min Sketch\n",
        "---\n",
        "\n",
        "The Count-Min (CM) sketch is a probabilistic data structure that provides\n",
        "a lossy form of compression for large count/frequency datasets.\n",
        "It is typically used for streaming data. At the heart of the CM sketch\n",
        "is hashing. The CM sketch uses a set of hash functions with corresponding,\n",
        "constant size, hash tables. These hash functions are independent from one\n",
        "another. Since the hash functions are independent, each distributes\n",
        "data differently within its hash table. This independent hashing redundancy allows\n",
        "CM sketches to achieve a high degree of lossy compression while still \n",
        "producing quality estimates of the original data.\n",
        "\n",
        "### Internals\n",
        "---\n",
        "The core data storage structure within a CM sketch is a $w$ * $d$ table, $\\text{count}$. $w$ is given by $w = \\left\\lceil\\frac{e}{\\epsilon}\\right\\rceil$ and d is given by $d = \\ln\\left(\\frac{1}{\\delta}\\right)$. $\\epsilon$ is the additive error factor that a result will be within with probability $1-\\delta$.\n",
        "\n",
        "<img src=\"./img/cm_internal_table.png\" width=\"400\" />\n",
        "\n",
        "Each row in the table is used as the hash table for one of the $1..d$ hash functions. When we add an event to the sketch, its count is added to each row.\n",
        "\n",
        "<img src=\"./img/cm_adding_event.png\" width=\"400\" />\n",
        "\n",
        "### Operations\n",
        "---\n",
        "#### Point Query $Q(i)$\n",
        "A point query is the estimation of $a_i$ from the original data.\n",
        "\n",
        "<img src=\"./img/cm_point_q.png\" width=\"400\" />\n",
        "$$Q(i) = \\min_j\\text{count}[j, h_j(i)]$$\n",
        "\n",
        "#### Range Query $Q(l, r)$\n",
        "A range query from $l..r$ is the estimation of the sum over that range.\n",
        "$$Q(l,r) = \\sum_{i=l}^r a_i$$\n",
        "To accuratly calculate a range query, $log(n)$ sketches must be kept; one for each set of dyadic ranges spanning $1..n$.\n",
        "\n",
        "#### Inner Product $Q(\\boldsymbol{a}, \\boldsymbol{b})$\n",
        "The inner product between two arrays can be estimated using a sketch for each array and taking the minimum row-wise inner product.\n",
        "$$Q(\\boldsymbol{a}, \\boldsymbol{b}) = \\min_j\\sum_{k=1}^w\\text{count}_a[j, k]*\\text{count}_b[j, k]$$"
      ],
      "metadata": {}
    },
    {
      "cell_type": "code",
      "source": [
        "import numpy as np # linear algebra\n",
        "import pandas as pd # data processing, CSV file I/O (e.g. pd.read_csv)\n",
        "import seaborn as sns # visualizations\n",
        "import os\n",
        "import glob\n",
        "import time\n",
        "import sys\n",
        "import mmh3\n",
        "# \"pip install mmh3\" should do it"
      ],
      "outputs": [],
      "execution_count": 4,
      "metadata": {
        "execution": {
          "iopub.status.busy": "2020-11-23T16:28:06.671Z",
          "iopub.execute_input": "2020-11-23T16:28:06.676Z",
          "shell.execute_reply": "2020-11-23T16:28:06.696Z",
          "iopub.status.idle": "2020-11-23T16:28:06.688Z"
        }
      }
    },
    {
      "cell_type": "markdown",
      "source": [
        "Here we will look at the space/time trade offs of a min-sketch versus a more naiive implementation. In the class definitions, fill in the TODO's."
      ],
      "metadata": {}
    },
    {
      "cell_type": "code",
      "source": [
        "# naively count frequencies\n",
        "\n",
        "class dictionary():\n",
        "    \n",
        "    def __init__(self):\n",
        "        self.dictionary = {}\n",
        "        self.nbytes = sys.getsizeof(self)\n",
        "    \n",
        "    def getsize(self):\n",
        "        print(\"Dictionary is Size: {} Bytes\\n\".format(self.nbytes))\n",
        "        \n",
        "    def add(self,token):\n",
        "        if token in self.dictionary:\n",
        "            self.dictionary[token] = self.dictionary[token]+1\n",
        "        else:\n",
        "            self.dictionary[token] = 1\n",
        "        self.nbytes = sys.getsizeof(self.dictionary)\n",
        "        \n",
        "    def timed_update(self,tokenlist):\n",
        "        startsize = self.nbytes\n",
        "        start = time.time()\n",
        "        for token in tokenlist:\n",
        "            self.add(token)\n",
        "        end = time.time() - start\n",
        "        dsize = self.nbytes - startsize\n",
        "        print(\"Time Elapsed: {} Seconds \\n\".format(end))\n",
        "        print(\"Change In Memory: {} Bytes\\n\".format(dsize))\n",
        "    \n",
        "    def estimate(self,token):\n",
        "        try:\n",
        "            return self.dictionary[token]\n",
        "        except:\n",
        "            print(\"Error: Token Not Found \\n\")"
      ],
      "outputs": [],
      "execution_count": 5,
      "metadata": {
        "execution": {
          "iopub.status.busy": "2020-11-23T16:28:08.802Z",
          "iopub.execute_input": "2020-11-23T16:28:08.808Z",
          "iopub.status.idle": "2020-11-23T16:28:08.819Z",
          "shell.execute_reply": "2020-11-23T16:28:08.825Z"
        }
      }
    },
    {
      "cell_type": "code",
      "source": [
        "\n",
        "class CountMinSketch():\n",
        "    \n",
        "    def __init__(self,seqlist=None,indexes=2**8,hashfuncs=2**3):\n",
        "        self.N = indexes\n",
        "        self.M = hashfuncs\n",
        "        self.seeds = np.arange(hashfuncs).tolist()\n",
        "        self.table = np.zeros((self.M,self.N))\n",
        "        self.hashes = [self._genhash(seed) for seed in self.seeds]\n",
        "        self.nbytes = sys.getsizeof(self.table) + sys.getsizeof(self.hashes)\n",
        "        if seqlist is not None:\n",
        "            for value in seqlist:\n",
        "                self.add(value)\n",
        "        \n",
        "    def _genhash(self,seed):\n",
        "        def hash_fn(val):\n",
        "            index = mmh3.hash(val,seed=seed)\n",
        "            return index%self.N\n",
        "        return hash_fn\n",
        "\n",
        "    def getsize(self):\n",
        "        print(\"Sketch is Size: {} Bytes\\n\".format(self.nbytes))\n",
        "        \n",
        "    def add(self, val):      \n",
        "        for ix in range(0, self.M):\n",
        "            # TODO\n",
        "            # Hint: self.table definitions alludes to the correct indexes\n",
        "            # Access the hash function for a respective column with self.hashes[ix]\n",
        "            # The explicit hashing step is done for you already\n",
        "            self.table[ix, self.hashes[ix](val)] += 1\n",
        "\n",
        "            \n",
        "    def timed_update(self,valuelist):\n",
        "        start = time.time()\n",
        "        for value in valuelist:\n",
        "            self.add(value)\n",
        "        end = time.time() - start\n",
        "        dsize = sys.getsizeof(self.table) + sys.getsizeof(self.hashes)\n",
        "        print(\"Time Elapsed: {} Seconds \\n\".format(end))\n",
        "        print(\"Memory Useage: {} Bytes\\n\".format(dsize))\n",
        "                              \n",
        "    \n",
        "    def estimate(self, value):\n",
        "        # Implement a point query from the sketch (see figure above if lost)\n",
        "        results = []\n",
        "        for ix in range(0, M):\n",
        "            # TODO\n",
        "            # HINT: Nearly Identical to .add()\n",
        "            pass"
      ],
      "outputs": [],
      "execution_count": 28,
      "metadata": {
        "execution": {
          "iopub.status.busy": "2020-11-23T16:52:59.368Z",
          "iopub.execute_input": "2020-11-23T16:52:59.448Z",
          "iopub.status.idle": "2020-11-23T16:52:59.459Z",
          "shell.execute_reply": "2020-11-23T16:52:59.562Z"
        }
      }
    },
    {
      "cell_type": "markdown",
      "source": [
        "We have taken genomes from the fruit fly (Drosophilia Melanogaster) and from a human chromosome and from them created a list of 16 character sequences so as to simulate \"words\" (Not biologically accurate but it serves our purposes here). Upload these lists of words and store them in your naiive implementation and your CMS implementation and evaluate their performance."
      ],
      "metadata": {}
    },
    {
      "cell_type": "code",
      "source": [
        "fruitfly = np.load(\"genomedata/fruitfly.npy\")\n",
        "human = np.load(\"genomedata/human.npy\")"
      ],
      "outputs": [],
      "execution_count": 29,
      "metadata": {
        "execution": {
          "iopub.status.busy": "2020-11-23T16:52:59.470Z",
          "iopub.execute_input": "2020-11-23T16:52:59.476Z",
          "iopub.status.idle": "2020-11-23T16:52:59.486Z",
          "shell.execute_reply": "2020-11-23T16:52:59.565Z"
        }
      }
    },
    {
      "cell_type": "code",
      "source": [
        "print(fruitfly[:5])"
      ],
      "outputs": [
        {
          "output_type": "stream",
          "name": "stdout",
          "text": [
            "['CGACAATGCACGACAG' 'AGGAAGCAGAACAGAT' 'ATTTAGATTGCCTCTC'\n",
            " 'ATTTTCTCTCCCATAT' 'TATAGGGAGAAATATG']\n"
          ]
        }
      ],
      "execution_count": 30,
      "metadata": {
        "execution": {
          "iopub.status.busy": "2020-11-23T16:52:59.497Z",
          "iopub.execute_input": "2020-11-23T16:52:59.505Z",
          "iopub.status.idle": "2020-11-23T16:52:59.524Z",
          "shell.execute_reply": "2020-11-23T16:52:59.571Z"
        }
      }
    },
    {
      "cell_type": "code",
      "source": [
        "genomedict = dictionary()\n",
        "genomedict.timed_update(human)"
      ],
      "outputs": [
        {
          "output_type": "stream",
          "name": "stdout",
          "text": [
            "Time Elapsed: 0.6702418327331543 Seconds \n",
            "\n",
            "Change In Memory: 20971560 Bytes\n",
            "\n"
          ]
        }
      ],
      "execution_count": 31,
      "metadata": {
        "execution": {
          "iopub.status.busy": "2020-11-23T16:52:59.533Z",
          "iopub.execute_input": "2020-11-23T16:52:59.540Z",
          "iopub.status.idle": "2020-11-23T16:53:00.096Z",
          "shell.execute_reply": "2020-11-23T16:53:00.111Z"
        }
      }
    },
    {
      "cell_type": "code",
      "source": [
        "genomesketch = CountMinSketch()\n",
        "genomesketch.timed_update(human)"
      ],
      "outputs": [
        {
          "output_type": "stream",
          "name": "stdout",
          "text": [
            "Time Elapsed: 12.619143962860107 Seconds \n",
            "\n",
            "Memory Useage: 33064 Bytes\n",
            "\n"
          ]
        }
      ],
      "execution_count": 32,
      "metadata": {
        "execution": {
          "iopub.status.busy": "2020-11-23T16:53:00.153Z",
          "iopub.execute_input": "2020-11-23T16:53:00.189Z",
          "iopub.status.idle": "2020-11-23T16:53:12.720Z",
          "shell.execute_reply": "2020-11-23T16:53:12.735Z"
        }
      }
    },
    {
      "cell_type": "code",
      "source": [
        "fruitflydict = dictionary()\n",
        "fruitflydict.timed_update(fruitfly)"
      ],
      "outputs": [
        {
          "output_type": "stream",
          "name": "stdout",
          "text": [
            "Time Elapsed: 0.6251158714294434 Seconds \n",
            "\n",
            "Change In Memory: 20971560 Bytes\n",
            "\n"
          ]
        }
      ],
      "execution_count": 20,
      "metadata": {
        "execution": {
          "iopub.status.busy": "2020-11-23T16:32:23.530Z",
          "iopub.execute_input": "2020-11-23T16:32:23.563Z",
          "iopub.status.idle": "2020-11-23T16:32:24.097Z",
          "shell.execute_reply": "2020-11-23T16:32:24.115Z"
        }
      }
    },
    {
      "cell_type": "code",
      "source": [
        "fruitflysketch = CountMinSketch()\n",
        "fruitflysketch.timed_update(fruitfly)"
      ],
      "outputs": [
        {
          "output_type": "stream",
          "name": "stdout",
          "text": [
            "Time Elapsed: 25.1436550617218 Seconds \n",
            "\n",
            "Memory Useage: 16832 Bytes\n",
            "\n"
          ]
        }
      ],
      "execution_count": 21,
      "metadata": {
        "execution": {
          "iopub.status.busy": "2020-11-23T16:32:30.554Z",
          "iopub.execute_input": "2020-11-23T16:32:30.575Z",
          "iopub.status.idle": "2020-11-23T16:32:55.624Z",
          "shell.execute_reply": "2020-11-23T16:32:55.638Z"
        }
      }
    },
    {
      "cell_type": "markdown",
      "source": [
        "Reflections:\n",
        "\n",
        "1) Compare and contrast the time/space performance between the naiive implementations of both the fruit fly and human chromosome sequence\n",
        "\n",
        "2) Compare and contrast the time/space performance between the CMS implementations of both the fruit fly and human chromosome sequence\n",
        "\n",
        "3) When might the CMS be a more prudent tool than something more basic?\n",
        "\n",
        "4) Tweak the CMS size (in the init method) to something bigger/smaller (i.e. 2^2,2^9). What does this do to runtime/memory useage?"
      ],
      "metadata": {}
    },
    {
      "cell_type": "markdown",
      "source": [
        "## Kmer Count Similarity\n",
        "---\n",
        "\n",
        "As it turns out, we can use the inner product between two sketches to estimate similiarity.\n",
        "\n",
        "The inner product between two vectors, $\\boldsymbol{a}$ and $\\boldsymbol{b}$ is given by\n",
        "\n",
        "$$\\boldsymbol{a} \\cdot \\boldsymbol{b} = \\|\\boldsymbol{a}\\|\\|\\boldsymbol{b}\\|\\cos{\\theta},$$\n",
        "\n",
        "where $\\theta$ is the angle between the two vectors. As $\\theta$ increases to 90,\n",
        "the dot product decreases. It is maximized when $\\theta$ is at or near 0. We can use\n",
        "this to determine how similar two vectors are.\n",
        "\n",
        "Kmer counts can be viewed as vectors with a large number of dimensions and so dot products can be used\n",
        "to determine similarity. Below we will perform classification of smaller kmer counts by\n",
        "comparing them against larger genome sequence counts using the inner product.\n",
        "Instead of keeping massive count arrays in memory, we will\n",
        "sketch them. Remember that the inner product between two sketches is given by\n",
        "\n",
        "$$Q(\\boldsymbol{a}, \\boldsymbol{b}) = \\min_j\\sum_{k=1}^w\\text{count}_a[j, k]*\\text{count}_b[j, k].$$\n",
        "\n",
        "Here we implement this in BinaryClassification() to see if we can determine whether a sub-sketch (a sketch formed from a portion of a given sequence) came from one \"complete\" sketch or the other. Fill in the blanks and try it out below:"
      ],
      "metadata": {}
    },
    {
      "cell_type": "code",
      "source": [
        "class BinaryClassification():\n",
        "    \n",
        "    def __init__(self,A,B,update=False):\n",
        "        self.streamA = A\n",
        "        self.streamB = B\n",
        "        \n",
        "    def _dotProduct(self,tableA,tableB):\n",
        "        return (tableA * tableB).sum(axis=1).min()\n",
        "        \n",
        "    def classify(self,subsketch):\n",
        "        # TODO\n",
        "        x = self._dotProduct(subsketch.table, self.streamA.table)\n",
        "        y = self._dotProduct(subsketch.table, self.streamB.table)\n",
        "\n",
        "        print(\"x=\",x)\n",
        "        print(\"y=\",y)\n",
        "        if x>y:\n",
        "            print(\"Subsketch is of class A\")\n",
        "        else:\n",
        "            print(\"Subsketch is of class B\")\n",
        "        pass"
      ],
      "outputs": [],
      "execution_count": 22,
      "metadata": {
        "execution": {
          "iopub.status.busy": "2020-11-23T16:39:30.868Z",
          "iopub.execute_input": "2020-11-23T16:39:30.874Z",
          "iopub.status.idle": "2020-11-23T16:39:30.886Z",
          "shell.execute_reply": "2020-11-23T16:39:30.895Z"
        }
      }
    },
    {
      "cell_type": "code",
      "source": [
        "# Classify these sketches with the BinaryClassification object\n",
        "fly_or_human = BinaryClassification(genomesketch,fruitflysketch)\n",
        "\n",
        "subhuman = CountMinSketch(seqlist=human[::8])\n",
        "subfly =  CountMinSketch(seqlist=fruitfly[::8])\n",
        "\n",
        "fly_or_human.classify(subhuman)\n",
        "fly_or_human.classify(subfly)"
      ],
      "outputs": [
        {
          "output_type": "stream",
          "name": "stdout",
          "text": [
            "x= 763203886.0\n",
            "y= 762885461.0\n",
            "Subsketch is of class A\n",
            "x= 762815363.0\n",
            "y= 762972301.0\n",
            "Subsketch is of class B\n"
          ]
        }
      ],
      "execution_count": 24,
      "metadata": {
        "execution": {
          "iopub.status.busy": "2020-11-23T16:41:47.888Z",
          "iopub.execute_input": "2020-11-23T16:41:47.942Z",
          "iopub.status.idle": "2020-11-23T16:41:55.600Z",
          "shell.execute_reply": "2020-11-23T16:41:55.612Z"
        }
      }
    },
    {
      "cell_type": "markdown",
      "source": [
        "If you have conviced yourself that a CMS in conjunction with the inner product can serve to create\n",
        "a supervised learning algorithm, then proceed to classify the mystery sequences  with the template\n",
        "class object below. We have provided \"sequences\" containing words/kmers of length 16 from the Atlantic\n",
        "Cod, Fruit Fly, Garter Snake, Human, Nematode, a simulated genome, and Yeast. The answers are in\n",
        "the text file provided.\n",
        "\n",
        "<img src=\"./img/dros_fruit_fly.jpg\" width=\"400\" />\n",
        "<img src=\"./img/namethatpok.jpg\" width=\"400\" />\n"
      ],
      "metadata": {}
    },
    {
      "cell_type": "code",
      "source": [
        "class classifier():\n",
        "    def __init__(self,sketchset,labels):\n",
        "        self.sketchset = sketchset\n",
        "        self.labels = labels\n",
        "        \n",
        "    def _dotProduct(self,tableA,tableB):\n",
        "        return (tableA * tableB).sum(axis=1).min()\n",
        "        \n",
        "    def compare(self,subsketch):\n",
        "        dotproduct = []\n",
        "        dotproduct = [self._dotProduct(subsketch.table, sketch.table) for sketch in self.sketchset]\n",
        "        for sketch in self.sketchset:\n",
        "            pass\n",
        "            #TODO\n",
        "        return self.labels[np.argmax(dotproduct)]"
      ],
      "outputs": [],
      "execution_count": 25,
      "metadata": {
        "execution": {
          "iopub.status.busy": "2020-11-23T16:43:33.052Z",
          "iopub.execute_input": "2020-11-23T16:43:33.058Z",
          "iopub.status.idle": "2020-11-23T16:43:33.066Z",
          "shell.execute_reply": "2020-11-23T16:43:33.071Z"
        }
      }
    },
    {
      "cell_type": "code",
      "source": [
        "# Note that you will need to upload this with numpy and instatiate CMS instances first\n",
        "files = [\n",
        "    \"genomedata/atlanticcod.npy\",\n",
        "    \"genomedata/fruitfly.npy\",\n",
        "    \"genomedata/gartersnake.npy\",\n",
        "    \"genomedata/human.npy\",\n",
        "    \"genomedata/nematode.npy\",\n",
        "    \"genomedata/simulated.npy\",\n",
        "    \"genomedata/yeast.npy\",\n",
        "]\n",
        "labels = [\n",
        "    \"Atlantic Cod\",\n",
        "    \"Fruit Fly\",\n",
        "    \"Garter Snake\",\n",
        "    \"Human\",\n",
        "    \"Nematode\",\n",
        "    \"Simulated\",\n",
        "    \"Yeast\",\n",
        "]\n",
        "mysteryfiles = [\n",
        "    \"genomedata/mystery1.npy\",\n",
        "    \"genomedata/mystery2.npy\",\n",
        "    \"genomedata/mystery3.npy\",\n",
        "    \"genomedata/mystery4.npy\",\n",
        "    \"genomedata/mystery5.npy\",\n",
        "    \"genomedata/mystery6.npy\",\n",
        "    \"genomedata/mystery7.npy\",\n",
        "    \"genomedata/mystery8.npy\",\n",
        "]"
      ],
      "outputs": [],
      "execution_count": 26,
      "metadata": {
        "execution": {
          "iopub.status.busy": "2020-11-23T16:43:34.718Z",
          "iopub.execute_input": "2020-11-23T16:43:34.725Z",
          "iopub.status.idle": "2020-11-23T16:43:34.736Z",
          "shell.execute_reply": "2020-11-23T16:43:34.743Z"
        }
      }
    },
    {
      "cell_type": "code",
      "source": [
        "sketchset = [CountMinSketch(seqlist=np.load(file)) for file in files]\n",
        "mysteryset = [CountMinSketch(seqlist=np.load(file)) for file in mysteryfiles]"
      ],
      "outputs": [],
      "execution_count": 27,
      "metadata": {
        "execution": {
          "iopub.status.busy": "2020-11-23T16:43:48.130Z",
          "iopub.execute_input": "2020-11-23T16:43:48.137Z",
          "iopub.status.idle": "2020-11-23T16:52:59.354Z",
          "shell.execute_reply": "2020-11-23T16:52:59.557Z"
        }
      }
    },
    {
      "cell_type": "code",
      "source": [],
      "outputs": [],
      "execution_count": null,
      "metadata": {
        "collapsed": true,
        "jupyter": {
          "source_hidden": false,
          "outputs_hidden": false
        },
        "nteract": {
          "transient": {
            "deleting": false
          }
        }
      }
    }
  ],
  "metadata": {
    "kernelspec": {
      "display_name": "Python 3",
      "language": "python",
      "name": "python3"
    },
    "language_info": {
      "name": "python",
      "version": "3.8.1",
      "mimetype": "text/x-python",
      "codemirror_mode": {
        "name": "ipython",
        "version": 3
      },
      "pygments_lexer": "ipython3",
      "nbconvert_exporter": "python",
      "file_extension": ".py"
    },
    "nteract": {
      "version": "0.26.0"
    }
  },
  "nbformat": 4,
  "nbformat_minor": 2
}